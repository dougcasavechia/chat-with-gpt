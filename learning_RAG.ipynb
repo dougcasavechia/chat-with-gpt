{
 "cells": [
  {
   "cell_type": "code",
   "execution_count": 1,
   "metadata": {},
   "outputs": [],
   "source": [
    "import os\n",
    "from dotenv import load_dotenv, find_dotenv # pip install python-dotenv\n",
    "from langchain_openai import OpenAI # pip install langchain-openai\n",
    "import pandas as pd\n",
    "\n",
    "\n",
    "_ = load_dotenv(find_dotenv())\n",
    "openai_api_key = os.getenv(\"OPENAI_API_KEY\")\n",
    "\n",
    "llm = OpenAI()"
   ]
  },
  {
   "cell_type": "code",
   "execution_count": 2,
   "metadata": {},
   "outputs": [],
   "source": [
    "# Definir o caminho do arquivo Excel\n",
    "excel_path = r'data/Regras Realbox.xlsx'\n",
    "\n",
    "# Ler o arquivo Excel\n",
    "df = pd.read_excel(excel_path)\n",
    "\n",
    "# Definir o caminho para salvar o arquivo CSV\n",
    "csv_path = r'data/Regras_Realbox.csv'\n",
    "\n",
    "# Salvar o DataFrame como CSV\n",
    "df.to_csv(csv_path, index=False, encoding='utf-8')"
   ]
  },
  {
   "cell_type": "code",
   "execution_count": 3,
   "metadata": {},
   "outputs": [],
   "source": [
    "from langchain_community.document_loaders.csv_loader import CSVLoader # pip install langchain-community\n",
    "\n",
    "path = fr'data/Regras Realbox.xlsx'\n",
    "loader = CSVLoader(csv_path, encoding='utf-8')\n",
    "document = loader.load()"
   ]
  },
  {
   "cell_type": "code",
   "execution_count": 4,
   "metadata": {},
   "outputs": [
    {
     "name": "stderr",
     "output_type": "stream",
     "text": [
      "C:\\Users\\dougl\\AppData\\Local\\Temp\\ipykernel_14696\\2040984971.py:6: LangChainDeprecationWarning: This class is deprecated. See the following migration guides for replacements based on `chain_type`:\n",
      "stuff: https://python.langchain.com/v0.2/docs/versions/migrating_chains/stuff_docs_chain\n",
      "map_reduce: https://python.langchain.com/v0.2/docs/versions/migrating_chains/map_reduce_chain\n",
      "refine: https://python.langchain.com/v0.2/docs/versions/migrating_chains/refine_chain\n",
      "map_rerank: https://python.langchain.com/v0.2/docs/versions/migrating_chains/map_rerank_docs_chain\n",
      "\n",
      "See also guides on retrieval and question-answering here: https://python.langchain.com/v0.2/docs/how_to/#qa-with-rag\n",
      "  chain = load_qa_chain(llm=chat, chain_type='stuff', verbose=True)\n"
     ]
    }
   ],
   "source": [
    "from langchain.chains.question_answering import load_qa_chain\n",
    "from langchain_openai.chat_models import ChatOpenAI\n",
    "\n",
    "chat = ChatOpenAI(model='gpt-3.5-turbo-0125')\n",
    "\n",
    "chain = load_qa_chain(llm=chat, chain_type='stuff', verbose=True)"
   ]
  },
  {
   "cell_type": "code",
   "execution_count": 5,
   "metadata": {},
   "outputs": [
    {
     "name": "stderr",
     "output_type": "stream",
     "text": [
      "C:\\Users\\dougl\\AppData\\Local\\Temp\\ipykernel_14696\\3009523891.py:3: LangChainDeprecationWarning: The method `Chain.run` was deprecated in langchain 0.1.0 and will be removed in 1.0. Use :meth:`~invoke` instead.\n",
      "  chain.run(input_documents=document, question=pergunta)\n",
      "Error in StdOutCallbackHandler.on_chain_start callback: AttributeError(\"'NoneType' object has no attribute 'get'\")\n",
      "Error in StdOutCallbackHandler.on_chain_start callback: AttributeError(\"'NoneType' object has no attribute 'get'\")\n"
     ]
    },
    {
     "name": "stdout",
     "output_type": "stream",
     "text": [
      "Prompt after formatting:\n",
      "\u001b[32;1m\u001b[1;3mSystem: Use the following pieces of context to answer the user's question. \n",
      "If you don't know the answer, just say that you don't know, don't try to make up an answer.\n",
      "----------------\n",
      "Pergunta: Quais informações necessárias em um pedido?\n",
      "Detalhes: Cor do vidro, espessura do vidro, se a medida é de vão ou final, altura e largura, tipo de instalação\n",
      "\n",
      "Pergunta: Se o cliente colocar medida de vão, quais informações são necessárias?\n",
      "Detalhes: Cor do vidro, espessura do vidro, altura e largura do vão e tipo de instalação\n",
      "\n",
      "Pergunta: Se o cliente colocar medida final, quais informações são necessárias?\n",
      "Detalhes: Cor do vidro, espessura do vidro, altura e largura das peças e tipo de instalação\n",
      "\n",
      "Pergunta: Qual tamanho minimo para lapidar uma peça temperada?\n",
      "Detalhes: O tamanho mínimo de lapidação é de 150 x 150 mm.\n",
      "\n",
      "Pergunta: Qual tamanho minimo para temperar uma peça temperada?\n",
      "Detalhes: O tamanho minimo para temperar uma peça é de 250 x 250 mm.\n",
      "\n",
      "Pergunta: Qual o tamanho máximo para não terceirizarmos uma peça?\n",
      "Detalhes: Peças acima de 4,5m² são terceirizadas. Espelho de 4mm podem ter uma dimensão linear máxima de 2500mm\n",
      "\n",
      "Pergunta: Quais as limitações de espelho 4mm?\n",
      "Detalhes: Não podem ter uma medida linear maior que 2500 mm, aréa máxima de 3m², e não podem ter recortes. Caso contrário, serão terceirizadas\n",
      "\n",
      "Pergunta: Quais limitações de espelho 6mm?\n",
      "Detalhes: Tamanho minimo de 150x150mm para lapidar. Tamanho máximo de 3200 mm linear e área máxima de 4,5 m²\n",
      "Human: E se for medida final?\u001b[0m\n",
      "\n",
      "\u001b[1m> Finished chain.\u001b[0m\n",
      "\n",
      "\u001b[1m> Finished chain.\u001b[0m\n"
     ]
    },
    {
     "data": {
      "text/plain": [
       "'Se o cliente fornecer a medida final, as informações necessárias seriam a cor do vidro, a espessura do vidro, a altura e largura das peças, e o tipo de instalação.'"
      ]
     },
     "execution_count": 5,
     "metadata": {},
     "output_type": "execute_result"
    }
   ],
   "source": [
    "pergunta = \"E se for medida final?\"\n",
    "\n",
    "chain.run(input_documents=document, question=pergunta)"
   ]
  },
  {
   "cell_type": "code",
   "execution_count": null,
   "metadata": {},
   "outputs": [],
   "source": []
  }
 ],
 "metadata": {
  "kernelspec": {
   "display_name": "venv",
   "language": "python",
   "name": "python3"
  },
  "language_info": {
   "codemirror_mode": {
    "name": "ipython",
    "version": 3
   },
   "file_extension": ".py",
   "mimetype": "text/x-python",
   "name": "python",
   "nbconvert_exporter": "python",
   "pygments_lexer": "ipython3",
   "version": "3.12.6"
  }
 },
 "nbformat": 4,
 "nbformat_minor": 2
}
